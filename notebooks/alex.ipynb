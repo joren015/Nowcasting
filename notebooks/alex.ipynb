{
 "cells": [
  {
   "cell_type": "code",
   "execution_count": 1,
   "metadata": {},
   "outputs": [
    {
     "name": "stderr",
     "output_type": "stream",
     "text": [
      "2022-10-29 18:03:08.203895: I tensorflow/core/platform/cpu_feature_guard.cc:193] This TensorFlow binary is optimized with oneAPI Deep Neural Network Library (oneDNN) to use the following CPU instructions in performance-critical operations:  FMA\n",
      "To enable them in other operations, rebuild TensorFlow with the appropriate compiler flags.\n",
      "2022-10-29 18:03:08.412348: E tensorflow/stream_executor/cuda/cuda_blas.cc:2981] Unable to register cuBLAS factory: Attempting to register factory for plugin cuBLAS when one has already been registered\n",
      "2022-10-29 18:03:09.316745: W tensorflow/stream_executor/platform/default/dso_loader.cc:64] Could not load dynamic library 'libnvinfer.so.7'; dlerror: libnvinfer.so.7: cannot open shared object file: No such file or directory\n",
      "2022-10-29 18:03:09.316832: W tensorflow/stream_executor/platform/default/dso_loader.cc:64] Could not load dynamic library 'libnvinfer_plugin.so.7'; dlerror: libnvinfer_plugin.so.7: cannot open shared object file: No such file or directory\n",
      "2022-10-29 18:03:09.316841: W tensorflow/compiler/tf2tensorrt/utils/py_utils.cc:38] TF-TRT Warning: Cannot dlopen some TensorRT libraries. If you would like to use Nvidia GPU with TensorRT, please make sure the missing libraries mentioned above are installed properly.\n"
     ]
    }
   ],
   "source": [
    "import gc\n",
    "import os\n",
    "\n",
    "import keras\n",
    "import mat73\n",
    "import tensorflow as tf\n",
    "from keras.callbacks import EarlyStopping, ModelCheckpoint, ReduceLROnPlateau\n",
    "from nowcasting.unet import res1\n",
    "from sklearn.model_selection import train_test_split\n",
    "from tensorflow.keras import mixed_precision\n",
    "from tqdm import tqdm\n"
   ]
  },
  {
   "cell_type": "code",
   "execution_count": 2,
   "metadata": {},
   "outputs": [
    {
     "name": "stdout",
     "output_type": "stream",
     "text": [
      "INFO:tensorflow:Mixed precision compatibility check (mixed_float16): OK\n",
      "Your GPU will likely run quickly with dtype policy mixed_float16 as it has compute capability of at least 7.0. Your GPU: NVIDIA GeForce RTX 2080 Ti, compute capability 7.5\n",
      "[PhysicalDevice(name='/physical_device:GPU:0', device_type='GPU')]\n"
     ]
    }
   ],
   "source": [
    "os.environ[\"TF_FORCE_GPU_ALLOW_GROWTH\"] = \"true\"\n",
    "tf.config.optimizer.set_experimental_options({\"layout_optimizer\": False})\n",
    "\n",
    "os.environ[\"TF_GPU_ALLOCATOR\"] = \"cuda_malloc_async\"\n",
    "\n",
    "policy = mixed_precision.Policy(\"mixed_float16\")\n",
    "mixed_precision.set_global_policy(policy)\n",
    "\n",
    "print(tf.config.list_physical_devices('GPU'))"
   ]
  },
  {
   "cell_type": "code",
   "execution_count": 3,
   "metadata": {},
   "outputs": [],
   "source": [
    "#%% load the data\n",
    "mat = mat73.loadmat(\"../data/GD/1Deg_800Sample.mat\")  # 8 time step estimation\n",
    "X_1 = mat[\n",
    "    \"X_train\"]  # (sample, time sequence, latitude, longitude, channel) here channels are 1: precipitation, 2: wind velocity in x direction, 3: wind velocity in y direction\n",
    "y_1 = mat[\"y_train\"]  # (sample, time sequence, lat, lon)"
   ]
  },
  {
   "cell_type": "code",
   "execution_count": 4,
   "metadata": {},
   "outputs": [
    {
     "name": "stdout",
     "output_type": "stream",
     "text": [
      "Train feature (680, 12, 120, 120, 3) Train label (680, 8, 120, 120)\n",
      "Validation feature (201, 12, 120, 120, 3) Validation label (120, 8, 120, 120)\n"
     ]
    }
   ],
   "source": [
    "X_test = mat[\"X_test\"]\n",
    "y_test = mat[\"y_test\"]\n",
    "GFS = mat[\"GFS_test\"]\n",
    "\n",
    "X_train, X_val, y_train, y_val = train_test_split(X_1,\n",
    "                                                  y_1,\n",
    "                                                  test_size=0.15,\n",
    "                                                  random_state=42)\n",
    "print(\"Train feature\", X_train.shape, \"Train label\", y_train.shape)\n",
    "print(\"Validation feature\", X_test.shape, \"Validation label\", y_val.shape)\n"
   ]
  },
  {
   "cell_type": "code",
   "execution_count": 5,
   "metadata": {},
   "outputs": [
    {
     "data": {
      "text/plain": [
       "0"
      ]
     },
     "execution_count": 5,
     "metadata": {},
     "output_type": "execute_result"
    }
   ],
   "source": [
    "del X_1, y_1, mat, X_val, y_val, GFS\n",
    "gc.collect()"
   ]
  },
  {
   "cell_type": "code",
   "execution_count": 6,
   "metadata": {},
   "outputs": [
    {
     "name": "stderr",
     "output_type": "stream",
     "text": [
      "2022-10-29 18:03:53.373225: I tensorflow/core/platform/cpu_feature_guard.cc:193] This TensorFlow binary is optimized with oneAPI Deep Neural Network Library (oneDNN) to use the following CPU instructions in performance-critical operations:  FMA\n",
      "To enable them in other operations, rebuild TensorFlow with the appropriate compiler flags.\n",
      "2022-10-29 18:03:54.147873: W tensorflow/core/common_runtime/gpu/gpu_bfc_allocator.cc:42] Overriding orig_value setting because the TF_FORCE_GPU_ALLOW_GROWTH environment variable is set. Original config value was 0.\n",
      "2022-10-29 18:03:54.147899: I tensorflow/core/common_runtime/gpu/gpu_process_state.cc:222] Using CUDA malloc Async allocator for GPU: 0\n",
      "2022-10-29 18:03:54.148036: I tensorflow/core/common_runtime/gpu/gpu_device.cc:1616] Created device /job:localhost/replica:0/task:0/device:GPU:0 with 9621 MB memory:  -> device: 0, name: NVIDIA GeForce RTX 2080 Ti, pci bus id: 0000:04:00.0, compute capability: 7.5\n"
     ]
    },
    {
     "name": "stdout",
     "output_type": "stream",
     "text": [
      "Model: \"model\"\n",
      "__________________________________________________________________________________________________\n",
      " Layer (type)                   Output Shape         Param #     Connected to                     \n",
      "==================================================================================================\n",
      " input_1 (InputLayer)           [(None, 12, 120, 12  0           []                               \n",
      "                                0, 3)]                                                            \n",
      "                                                                                                  \n",
      " batch_normalization (BatchNorm  (None, 12, 120, 120  12         ['input_1[0][0]']                \n",
      " alization)                     , 3)                                                              \n",
      "                                                                                                  \n",
      " conv_lstm1 (ConvLSTM2D)        (None, 12, 120, 120  3200        ['batch_normalization[0][0]']    \n",
      "                                , 8)                                                              \n",
      "                                                                                                  \n",
      " conv_lstm13 (ConvLSTM2D)       (None, 12, 120, 120  4640        ['conv_lstm1[0][0]']             \n",
      "                                , 8)                                                              \n",
      "                                                                                                  \n",
      " max_pooling3d (MaxPooling3D)   (None, 12, 60, 60,   0           ['conv_lstm13[0][0]']            \n",
      "                                8)                                                                \n",
      "                                                                                                  \n",
      " batch_normalization_1 (BatchNo  (None, 12, 60, 60,   32         ['max_pooling3d[0][0]']          \n",
      " rmalization)                   8)                                                                \n",
      "                                                                                                  \n",
      " dropout (Dropout)              (None, 12, 60, 60,   0           ['batch_normalization_1[0][0]']  \n",
      "                                8)                                                                \n",
      "                                                                                                  \n",
      " conv_lstm2 (ConvLSTM2D)        (None, 12, 60, 60,   13888       ['dropout[0][0]']                \n",
      "                                16)                                                               \n",
      "                                                                                                  \n",
      " conv_lstm22 (ConvLSTM2D)       (None, 12, 60, 60,   18496       ['conv_lstm2[0][0]']             \n",
      "                                16)                                                               \n",
      "                                                                                                  \n",
      " conv_lstm23 (ConvLSTM2D)       (None, 12, 60, 60,   18496       ['conv_lstm22[0][0]']            \n",
      "                                16)                                                               \n",
      "                                                                                                  \n",
      " max_pooling3d_1 (MaxPooling3D)  (None, 12, 30, 30,   0          ['conv_lstm23[0][0]']            \n",
      "                                16)                                                               \n",
      "                                                                                                  \n",
      " batch_normalization_2 (BatchNo  (None, 12, 30, 30,   64         ['max_pooling3d_1[0][0]']        \n",
      " rmalization)                   16)                                                               \n",
      "                                                                                                  \n",
      " dropout_1 (Dropout)            (None, 12, 30, 30,   0           ['batch_normalization_2[0][0]']  \n",
      "                                16)                                                               \n",
      "                                                                                                  \n",
      " conv_lstm3 (ConvLSTM2D)        (None, 12, 30, 30,   55424       ['dropout_1[0][0]']              \n",
      "                                32)                                                               \n",
      "                                                                                                  \n",
      " conv_lstm32 (ConvLSTM2D)       (None, 12, 30, 30,   73856       ['conv_lstm3[0][0]']             \n",
      "                                32)                                                               \n",
      "                                                                                                  \n",
      " conv_lstm33 (ConvLSTM2D)       (None, 12, 30, 30,   73856       ['conv_lstm32[0][0]']            \n",
      "                                32)                                                               \n",
      "                                                                                                  \n",
      " max_pooling3d_2 (MaxPooling3D)  (None, 12, 15, 15,   0          ['conv_lstm33[0][0]']            \n",
      "                                32)                                                               \n",
      "                                                                                                  \n",
      " batch_normalization_3 (BatchNo  (None, 12, 15, 15,   128        ['max_pooling3d_2[0][0]']        \n",
      " rmalization)                   32)                                                               \n",
      "                                                                                                  \n",
      " dropout_2 (Dropout)            (None, 12, 15, 15,   0           ['batch_normalization_3[0][0]']  \n",
      "                                32)                                                               \n",
      "                                                                                                  \n",
      " conv_lstm4 (ConvLSTM2D)        (None, 12, 15, 15,   221440      ['dropout_2[0][0]']              \n",
      "                                64)                                                               \n",
      "                                                                                                  \n",
      " conv_lstm42 (ConvLSTM2D)       (None, 12, 15, 15,   295168      ['conv_lstm4[0][0]']             \n",
      "                                64)                                                               \n",
      "                                                                                                  \n",
      " conv_lstm43 (ConvLSTM2D)       (None, 12, 15, 15,   295168      ['conv_lstm42[0][0]']            \n",
      "                                64)                                                               \n",
      "                                                                                                  \n",
      " batch_normalization_4 (BatchNo  (None, 12, 15, 15,   256        ['conv_lstm43[0][0]']            \n",
      " rmalization)                   64)                                                               \n",
      "                                                                                                  \n",
      " dropout_3 (Dropout)            (None, 12, 15, 15,   0           ['batch_normalization_4[0][0]']  \n",
      "                                64)                                                               \n",
      "                                                                                                  \n",
      " conv3d (Conv3D)                (None, 11, 15, 15,   4128        ['dropout_3[0][0]']              \n",
      "                                32)                                                               \n",
      "                                                                                                  \n",
      " conv_lstm5 (ConvLSTM2D)        (None, 11, 15, 15,   8320        ['conv3d[0][0]']                 \n",
      "                                32)                                                               \n",
      "                                                                                                  \n",
      " conv3d_transpose (Conv3DTransp  (None, 11, 30, 30,   4128       ['conv_lstm5[0][0]']             \n",
      " ose)                           32)                                                               \n",
      "                                                                                                  \n",
      " tf.__operators__.getitem (Slic  (None, 11, 30, 30,   0          ['conv_lstm33[0][0]']            \n",
      " ingOpLambda)                   32)                                                               \n",
      "                                                                                                  \n",
      " concatenate (Concatenate)      (None, 11, 30, 30,   0           ['conv3d_transpose[0][0]',       \n",
      "                                64)                               'tf.__operators__.getitem[0][0]'\n",
      "                                                                 ]                                \n",
      "                                                                                                  \n",
      " conv_lstm51 (ConvLSTM2D)       (None, 11, 30, 30,   110720      ['concatenate[0][0]']            \n",
      "                                32)                                                               \n",
      "                                                                                                  \n",
      " conv_lstm52 (ConvLSTM2D)       (None, 11, 30, 30,   73856       ['conv_lstm51[0][0]']            \n",
      "                                32)                                                               \n",
      "                                                                                                  \n",
      " conv_lstm53 (ConvLSTM2D)       (None, 11, 30, 30,   73856       ['conv_lstm52[0][0]']            \n",
      "                                32)                                                               \n",
      "                                                                                                  \n",
      " batch_normalization_5 (BatchNo  (None, 11, 30, 30,   128        ['conv_lstm53[0][0]']            \n",
      " rmalization)                   32)                                                               \n",
      "                                                                                                  \n",
      " dropout_4 (Dropout)            (None, 11, 30, 30,   0           ['batch_normalization_5[0][0]']  \n",
      "                                32)                                                               \n",
      "                                                                                                  \n",
      " conv3d_1 (Conv3D)              (None, 10, 30, 30,   1040        ['dropout_4[0][0]']              \n",
      "                                16)                                                               \n",
      "                                                                                                  \n",
      " conv_lstm6 (ConvLSTM2D)        (None, 10, 30, 30,   2112        ['conv3d_1[0][0]']               \n",
      "                                16)                                                               \n",
      "                                                                                                  \n",
      " conv3d_transpose_1 (Conv3DTran  (None, 10, 60, 60,   1040       ['conv_lstm6[0][0]']             \n",
      " spose)                         16)                                                               \n",
      "                                                                                                  \n",
      " tf.__operators__.getitem_1 (Sl  (None, 10, 60, 60,   0          ['conv_lstm23[0][0]']            \n",
      " icingOpLambda)                 16)                                                               \n",
      "                                                                                                  \n",
      " concatenate_1 (Concatenate)    (None, 10, 60, 60,   0           ['conv3d_transpose_1[0][0]',     \n",
      "                                32)                               'tf.__operators__.getitem_1[0][0\n",
      "                                                                 ]']                              \n",
      "                                                                                                  \n",
      " conv_lstm61 (ConvLSTM2D)       (None, 10, 60, 60,   27712       ['concatenate_1[0][0]']          \n",
      "                                16)                                                               \n",
      "                                                                                                  \n",
      " conv_lstm62 (ConvLSTM2D)       (None, 10, 60, 60,   18496       ['conv_lstm61[0][0]']            \n",
      "                                16)                                                               \n",
      "                                                                                                  \n",
      " conv_lstm63 (ConvLSTM2D)       (None, 10, 60, 60,   18496       ['conv_lstm62[0][0]']            \n",
      "                                16)                                                               \n",
      "                                                                                                  \n",
      " batch_normalization_6 (BatchNo  (None, 10, 60, 60,   64         ['conv_lstm63[0][0]']            \n",
      " rmalization)                   16)                                                               \n",
      "                                                                                                  \n",
      " dropout_5 (Dropout)            (None, 10, 60, 60,   0           ['batch_normalization_6[0][0]']  \n",
      "                                16)                                                               \n",
      "                                                                                                  \n",
      " conv3d_2 (Conv3D)              (None, 8, 60, 60, 8  392         ['dropout_5[0][0]']              \n",
      "                                )                                                                 \n",
      "                                                                                                  \n",
      " conv_lstm7 (ConvLSTM2D)        (None, 8, 60, 60, 8  544         ['conv3d_2[0][0]']               \n",
      "                                )                                                                 \n",
      "                                                                                                  \n",
      " conv3d_transpose_2 (Conv3DTran  (None, 8, 120, 120,  264        ['conv_lstm7[0][0]']             \n",
      " spose)                          8)                                                               \n",
      "                                                                                                  \n",
      " tf.__operators__.getitem_2 (Sl  (None, 8, 120, 120,  0          ['conv_lstm13[0][0]']            \n",
      " icingOpLambda)                  8)                                                               \n",
      "                                                                                                  \n",
      " concatenate_2 (Concatenate)    (None, 8, 120, 120,  0           ['conv3d_transpose_2[0][0]',     \n",
      "                                 16)                              'tf.__operators__.getitem_2[0][0\n",
      "                                                                 ]']                              \n",
      "                                                                                                  \n",
      " conv_lstm71 (ConvLSTM2D)       (None, 8, 120, 120,  6944        ['concatenate_2[0][0]']          \n",
      "                                 8)                                                               \n",
      "                                                                                                  \n",
      " conv_lstm72 (ConvLSTM2D)       (None, 8, 120, 120,  4640        ['conv_lstm71[0][0]']            \n",
      "                                 8)                                                               \n",
      "                                                                                                  \n",
      " conv_lstm73 (ConvLSTM2D)       (None, 8, 120, 120,  4640        ['conv_lstm72[0][0]']            \n",
      "                                 8)                                                               \n",
      "                                                                                                  \n",
      " conv3d_3 (Conv3D)              (None, 8, 120, 120,  9           ['conv_lstm73[0][0]']            \n",
      "                                 1)                                                               \n",
      "                                                                                                  \n",
      " tf.compat.v1.squeeze (TFOpLamb  (None, 8, 120, 120)  0          ['conv3d_3[0][0]']               \n",
      " da)                                                                                              \n",
      "                                                                                                  \n",
      "==================================================================================================\n",
      "Total params: 1,435,653\n",
      "Trainable params: 1,435,311\n",
      "Non-trainable params: 342\n",
      "__________________________________________________________________________________________________\n"
     ]
    }
   ],
   "source": [
    "model = res1((12, 120, 120, 3), num_filters_base=8, dropout_rate=0.2)\n",
    "model.summary()\n",
    "# with open(\"modelsummary.txt\", \"w\") as f:\n",
    "#     model.summary(print_fn=lambda x: f.write(x + \"\\n\"))"
   ]
  },
  {
   "cell_type": "code",
   "execution_count": 7,
   "metadata": {},
   "outputs": [
    {
     "name": "stderr",
     "output_type": "stream",
     "text": [
      "2022-10-29 18:04:00.982538: W tensorflow/core/framework/cpu_allocator_impl.cc:82] Allocation of 1410048000 exceeds 10% of free system memory.\n",
      "2022-10-29 18:04:02.829345: W tensorflow/core/framework/cpu_allocator_impl.cc:82] Allocation of 1410048000 exceeds 10% of free system memory.\n"
     ]
    },
    {
     "name": "stdout",
     "output_type": "stream",
     "text": [
      "Epoch 1/50\n"
     ]
    },
    {
     "name": "stderr",
     "output_type": "stream",
     "text": [
      "2022-10-29 18:04:44.076464: I tensorflow/stream_executor/cuda/cuda_dnn.cc:384] Loaded cuDNN version 8600\n",
      "2022-10-29 18:04:44.878328: I tensorflow/core/platform/default/subprocess.cc:304] Start cannot spawn child process: No such file or directory\n"
     ]
    },
    {
     "name": "stdout",
     "output_type": "stream",
     "text": [
      "85/85 [==============================] - ETA: 0s - loss: 0.1066 - mae: 0.1066 - mse: 0.3699\n",
      "Epoch 1: val_loss improved from inf to 0.08157, saving model to script_n1.h5\n",
      "85/85 [==============================] - 151s 1s/step - loss: 0.1066 - mae: 0.1066 - mse: 0.3699 - val_loss: 0.0816 - val_mae: 0.0816 - val_mse: 0.2095 - lr: 0.0010\n",
      "Epoch 2/50\n",
      "85/85 [==============================] - ETA: 0s - loss: 0.1008 - mae: 0.1008 - mse: 0.3247\n",
      "Epoch 2: val_loss improved from 0.08157 to 0.07833, saving model to script_n1.h5\n",
      "85/85 [==============================] - 101s 1s/step - loss: 0.1008 - mae: 0.1008 - mse: 0.3247 - val_loss: 0.0783 - val_mae: 0.0783 - val_mse: 0.1946 - lr: 0.0010\n",
      "Epoch 3/50\n",
      "85/85 [==============================] - ETA: 0s - loss: 0.0991 - mae: 0.0991 - mse: 0.3157\n",
      "Epoch 3: val_loss improved from 0.07833 to 0.07826, saving model to script_n1.h5\n",
      "85/85 [==============================] - 101s 1s/step - loss: 0.0991 - mae: 0.0991 - mse: 0.3157 - val_loss: 0.0783 - val_mae: 0.0782 - val_mse: 0.1923 - lr: 0.0010\n",
      "Epoch 4/50\n",
      "85/85 [==============================] - ETA: 0s - loss: 0.0982 - mae: 0.0982 - mse: 0.3112\n",
      "Epoch 4: val_loss improved from 0.07826 to 0.07734, saving model to script_n1.h5\n",
      "85/85 [==============================] - 101s 1s/step - loss: 0.0982 - mae: 0.0982 - mse: 0.3112 - val_loss: 0.0773 - val_mae: 0.0773 - val_mse: 0.1891 - lr: 0.0010\n",
      "Epoch 5/50\n",
      "85/85 [==============================] - ETA: 0s - loss: 0.0975 - mae: 0.0975 - mse: 0.3060\n",
      "Epoch 5: val_loss improved from 0.07734 to 0.07723, saving model to script_n1.h5\n",
      "85/85 [==============================] - 101s 1s/step - loss: 0.0975 - mae: 0.0975 - mse: 0.3060 - val_loss: 0.0772 - val_mae: 0.0772 - val_mse: 0.1891 - lr: 0.0010\n",
      "Epoch 6/50\n",
      "85/85 [==============================] - ETA: 0s - loss: 0.0988 - mae: 0.0988 - mse: 0.3129\n",
      "Epoch 6: val_loss did not improve from 0.07723\n",
      "85/85 [==============================] - 100s 1s/step - loss: 0.0988 - mae: 0.0988 - mse: 0.3129 - val_loss: 0.0794 - val_mae: 0.0794 - val_mse: 0.1950 - lr: 0.0010\n",
      "Epoch 7/50\n",
      "85/85 [==============================] - ETA: 0s - loss: 0.1041 - mae: 0.1041 - mse: 0.3501\n",
      "Epoch 7: val_loss did not improve from 0.07723\n",
      "85/85 [==============================] - 100s 1s/step - loss: 0.1041 - mae: 0.1041 - mse: 0.3501 - val_loss: 0.0812 - val_mae: 0.0812 - val_mse: 0.2087 - lr: 0.0010\n",
      "Epoch 8/50\n",
      "85/85 [==============================] - ETA: 0s - loss: 0.1041 - mae: 0.1041 - mse: 0.3508\n",
      "Epoch 8: val_loss did not improve from 0.07723\n",
      "85/85 [==============================] - 101s 1s/step - loss: 0.1041 - mae: 0.1041 - mse: 0.3508 - val_loss: 0.0810 - val_mae: 0.0810 - val_mse: 0.2082 - lr: 0.0010\n",
      "Epoch 9/50\n",
      "85/85 [==============================] - ETA: 0s - loss: 0.1035 - mae: 0.1035 - mse: 0.3460\n",
      "Epoch 9: val_loss did not improve from 0.07723\n",
      "85/85 [==============================] - 100s 1s/step - loss: 0.1035 - mae: 0.1035 - mse: 0.3460 - val_loss: 0.0806 - val_mae: 0.0806 - val_mse: 0.2047 - lr: 0.0010\n",
      "Epoch 10/50\n",
      "85/85 [==============================] - ETA: 0s - loss: 0.1024 - mae: 0.1024 - mse: 0.3387\n",
      "Epoch 10: ReduceLROnPlateau reducing learning rate to 0.00010000000474974513.\n",
      "\n",
      "Epoch 10: val_loss did not improve from 0.07723\n",
      "85/85 [==============================] - 101s 1s/step - loss: 0.1024 - mae: 0.1024 - mse: 0.3387 - val_loss: 0.0800 - val_mae: 0.0800 - val_mse: 0.1998 - lr: 0.0010\n",
      "Epoch 11/50\n",
      "85/85 [==============================] - ETA: 0s - loss: 0.1018 - mae: 0.1018 - mse: 0.3345\n",
      "Epoch 11: val_loss did not improve from 0.07723\n",
      "85/85 [==============================] - 101s 1s/step - loss: 0.1018 - mae: 0.1018 - mse: 0.3345 - val_loss: 0.0799 - val_mae: 0.0799 - val_mse: 0.2011 - lr: 1.0000e-04\n",
      "Epoch 12/50\n",
      "85/85 [==============================] - ETA: 0s - loss: 0.1017 - mae: 0.1017 - mse: 0.3339\n",
      "Epoch 12: val_loss did not improve from 0.07723\n",
      "85/85 [==============================] - 101s 1s/step - loss: 0.1017 - mae: 0.1017 - mse: 0.3339 - val_loss: 0.0798 - val_mae: 0.0798 - val_mse: 0.2011 - lr: 1.0000e-04\n",
      "Epoch 13/50\n",
      "85/85 [==============================] - ETA: 0s - loss: 0.1016 - mae: 0.1016 - mse: 0.3336\n",
      "Epoch 13: val_loss did not improve from 0.07723\n",
      "85/85 [==============================] - 101s 1s/step - loss: 0.1016 - mae: 0.1016 - mse: 0.3336 - val_loss: 0.0797 - val_mae: 0.0797 - val_mse: 0.2009 - lr: 1.0000e-04\n",
      "Epoch 14/50\n",
      "85/85 [==============================] - ETA: 0s - loss: 0.1015 - mae: 0.1015 - mse: 0.3323\n",
      "Epoch 14: val_loss did not improve from 0.07723\n",
      "85/85 [==============================] - 100s 1s/step - loss: 0.1015 - mae: 0.1015 - mse: 0.3323 - val_loss: 0.0796 - val_mae: 0.0796 - val_mse: 0.1993 - lr: 1.0000e-04\n",
      "Epoch 15/50\n",
      "85/85 [==============================] - ETA: 0s - loss: 0.1014 - mae: 0.1014 - mse: 0.3321\n",
      "Epoch 15: ReduceLROnPlateau reducing learning rate to 1.0000000474974514e-05.\n",
      "\n",
      "Epoch 15: val_loss did not improve from 0.07723\n",
      "85/85 [==============================] - 100s 1s/step - loss: 0.1014 - mae: 0.1014 - mse: 0.3321 - val_loss: 0.0794 - val_mae: 0.0794 - val_mse: 0.1973 - lr: 1.0000e-04\n",
      "Epoch 15: early stopping\n"
     ]
    }
   ],
   "source": [
    "#%%\n",
    "\n",
    "model.compile(loss=\"mean_absolute_error\",\n",
    "              optimizer=keras.optimizers.Adam(learning_rate=0.001),\n",
    "              metrics=[\"mae\", \"mse\"])\n",
    "#mean_absolute_error\n",
    "checkpoint_filepath = \"script_n1.h5\"\n",
    "callbacks = [\n",
    "    EarlyStopping(patience=10, verbose=1),\n",
    "    ReduceLROnPlateau(factor=0.1, patience=5, min_lr=0.00001, verbose=1),\n",
    "    ModelCheckpoint(filepath=checkpoint_filepath,\n",
    "                    verbose=1,\n",
    "                    save_best_only=True,\n",
    "                    save_weights_only=True)\n",
    "]\n",
    "\n",
    "#%%\n",
    "results = model.fit(X_train,\n",
    "                    y_train,\n",
    "                    batch_size=8,\n",
    "                    epochs=50,\n",
    "                    callbacks=callbacks,\n",
    "                    verbose=1,\n",
    "                    validation_data=(X_test, y_test))\n"
   ]
  }
 ],
 "metadata": {
  "kernelspec": {
   "display_name": "Python 3.9.12 ('.venv': venv)",
   "language": "python",
   "name": "python3"
  },
  "language_info": {
   "codemirror_mode": {
    "name": "ipython",
    "version": 3
   },
   "file_extension": ".py",
   "mimetype": "text/x-python",
   "name": "python",
   "nbconvert_exporter": "python",
   "pygments_lexer": "ipython3",
   "version": "3.9.12"
  },
  "orig_nbformat": 4,
  "vscode": {
   "interpreter": {
    "hash": "ab48bb00c4e609ad4126cd0d5032fb463cf982a4178eca92395db2bbdfbf1f7f"
   }
  }
 },
 "nbformat": 4,
 "nbformat_minor": 2
}
