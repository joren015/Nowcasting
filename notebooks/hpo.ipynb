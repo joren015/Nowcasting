{
 "cells": [
  {
   "cell_type": "code",
   "execution_count": null,
   "metadata": {},
   "outputs": [],
   "source": [
    "import gc\n",
    "import os\n",
    "import time\n",
    "\n",
    "import keras\n",
    "import mat73\n",
    "import mlflow\n",
    "import numpy as np\n",
    "import optuna\n",
    "import tensorflow as tf\n",
    "from keras.callbacks import EarlyStopping, ModelCheckpoint, ReduceLROnPlateau\n",
    "from nowcasting.unet import res1\n",
    "from optuna.integration.mlflow import MLflowCallback\n",
    "from sklearn.model_selection import train_test_split\n",
    "from tensorflow.keras import mixed_precision\n",
    "from tqdm import tqdm\n"
   ]
  },
  {
   "cell_type": "code",
   "execution_count": null,
   "metadata": {},
   "outputs": [],
   "source": [
    "os.environ[\"TF_FORCE_GPU_ALLOW_GROWTH\"] = \"true\"\n",
    "tf.config.optimizer.set_experimental_options({\"layout_optimizer\": False})\n",
    "\n",
    "os.environ[\"TF_GPU_ALLOCATOR\"] = \"cuda_malloc_async\"\n",
    "\n",
    "policy = mixed_precision.Policy(\"mixed_float16\")\n",
    "mixed_precision.set_global_policy(policy)\n",
    "\n",
    "print(tf.config.list_physical_devices('GPU'))"
   ]
  },
  {
   "cell_type": "code",
   "execution_count": null,
   "metadata": {},
   "outputs": [],
   "source": [
    "tracking_uri = \"mlruns\""
   ]
  },
  {
   "cell_type": "code",
   "execution_count": null,
   "metadata": {},
   "outputs": [],
   "source": [
    "#%% load the data\n",
    "mat = mat73.loadmat(\"../data/GD/1Deg_800Sample.mat\")  # 8 time step estimation\n",
    "X_1 = mat[\n",
    "    \"X_train\"]  # (sample, time sequence, latitude, longitude, channel) here channels are 1: precipitation, 2: wind velocity in x direction, 3: wind velocity in y direction\n",
    "y_1 = mat[\"y_train\"]  # (sample, time sequence, lat, lon)"
   ]
  },
  {
   "cell_type": "code",
   "execution_count": null,
   "metadata": {},
   "outputs": [],
   "source": [
    "X_test = mat[\"X_test\"]\n",
    "y_test = mat[\"y_test\"]\n",
    "GFS = mat[\"GFS_test\"]\n",
    "\n",
    "X_train, X_val, y_train, y_val = train_test_split(X_1,\n",
    "                                                  y_1,\n",
    "                                                  test_size=0.15,\n",
    "                                                  random_state=42)\n",
    "print(\"Train feature\", X_train.shape, \"Train label\", y_train.shape)\n",
    "print(\"Validation feature\", X_test.shape, \"Validation label\", y_val.shape)\n"
   ]
  },
  {
   "cell_type": "code",
   "execution_count": null,
   "metadata": {},
   "outputs": [],
   "source": [
    "del X_1, y_1, mat, X_val, y_val, GFS\n",
    "gc.collect()"
   ]
  },
  {
   "cell_type": "code",
   "execution_count": null,
   "metadata": {},
   "outputs": [],
   "source": [
    "def objective(trial):\n",
    "    time.sleep(5)\n",
    "    num_filters_base = trial.suggest_int(\"num_filters_base\", 4, 12, step=4)\n",
    "    dropout_rate = trial.suggest_float(\"dropout_rate\", 0.1, 0.3, step=0.1)\n",
    "    learning_rate = trial.suggest_float(\"learning_rate\", 1e-4, 1e-2, log=True)\n",
    "    batch_size = trial.suggest_int(\"batch_size\", 4, 12, step=4)\n",
    "\n",
    "    mlflow.log_params({\n",
    "        \"num_filters_base\": num_filters_base,\n",
    "        \"dropout_rate\": dropout_rate,\n",
    "        \"learning_rate\": learning_rate,\n",
    "        \"batch_size\": batch_size\n",
    "    })\n",
    "\n",
    "    model = res1((12, 120, 120, 3),\n",
    "                 num_filters_base=num_filters_base,\n",
    "                 dropout_rate=dropout_rate)\n",
    "\n",
    "    model.compile(loss=\"mean_absolute_error\",\n",
    "                  optimizer=keras.optimizers.Adam(learning_rate=learning_rate),\n",
    "                  metrics=[\"mae\", \"mse\"])\n",
    "    #mean_absolute_error\n",
    "    checkpoint_filepath = \"script_n1.h5\"\n",
    "    callbacks = [\n",
    "        EarlyStopping(patience=10, verbose=1),\n",
    "        ReduceLROnPlateau(factor=0.1, patience=5, min_lr=0.00001, verbose=1),\n",
    "        ModelCheckpoint(filepath=checkpoint_filepath,\n",
    "                        verbose=1,\n",
    "                        save_best_only=True,\n",
    "                        save_weights_only=True)\n",
    "    ]\n",
    "\n",
    "    try:\n",
    "        results = model.fit(X_train,\n",
    "                            y_train,\n",
    "                            batch_size=batch_size,\n",
    "                            epochs=2,\n",
    "                            callbacks=callbacks,\n",
    "                            verbose=1,\n",
    "                            validation_data=(X_test, y_test))\n",
    "\n",
    "        val_loss = np.min(results.history[\"val_loss\"])\n",
    "    except Exception as e:\n",
    "        print(e)\n",
    "\n",
    "    del model\n",
    "    gc.collect()\n",
    "\n",
    "    return val_loss"
   ]
  },
  {
   "cell_type": "code",
   "execution_count": null,
   "metadata": {},
   "outputs": [],
   "source": [
    "mlflow.set_tracking_uri(tracking_uri)\n",
    "mlflow.tensorflow.autolog(log_models=False)\n",
    "# mlflc = MLflowCallback(tracking_uri=tracking_uri, metric_name=\"val_loss\")\n",
    "\n",
    "storage = optuna.storages.RDBStorage(url=\"sqlite:///optuna.db\",\n",
    "                                     heartbeat_interval=60,\n",
    "                                     grace_period=120)\n",
    "\n",
    "search_space = {\n",
    "    \"num_filters_base\": [4, 8, 12],\n",
    "    \"dropout_rate\": [0.1, 0.2, 0.3],\n",
    "    \"learning_rate\": [1e-4, 1e-3, 1e-2],\n",
    "    \"batch_size\": [4, 8, 12]\n",
    "}\n",
    "study = optuna.create_study(storage=storage,\n",
    "                            sampler=optuna.samplers.GridSampler(search_space),\n",
    "                            direction=\"minimize\",\n",
    "                            load_if_exists=True)\n"
   ]
  },
  {
   "cell_type": "code",
   "execution_count": null,
   "metadata": {},
   "outputs": [],
   "source": [
    "# study.optimize(objective, callbacks=[mlflc])\n",
    "study.optimize(objective)"
   ]
  }
 ],
 "metadata": {
  "kernelspec": {
   "display_name": "Python 3.9.12 ('.venv': venv)",
   "language": "python",
   "name": "python3"
  },
  "language_info": {
   "codemirror_mode": {
    "name": "ipython",
    "version": 3
   },
   "file_extension": ".py",
   "mimetype": "text/x-python",
   "name": "python",
   "nbconvert_exporter": "python",
   "pygments_lexer": "ipython3",
   "version": "3.9.12"
  },
  "orig_nbformat": 4,
  "vscode": {
   "interpreter": {
    "hash": "ab48bb00c4e609ad4126cd0d5032fb463cf982a4178eca92395db2bbdfbf1f7f"
   }
  }
 },
 "nbformat": 4,
 "nbformat_minor": 2
}
